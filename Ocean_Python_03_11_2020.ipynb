{
  "nbformat": 4,
  "nbformat_minor": 0,
  "metadata": {
    "colab": {
      "name": "Ocean_Python_03_11_2020.ipynb",
      "provenance": [],
      "include_colab_link": true
    },
    "kernelspec": {
      "name": "python3",
      "display_name": "Python 3"
    }
  },
  "cells": [
    {
      "cell_type": "markdown",
      "metadata": {
        "id": "view-in-github",
        "colab_type": "text"
      },
      "source": [
        "<a href=\"https://colab.research.google.com/github/violigon/Ocean_Python_03_11_2020/blob/main/Ocean_Python_03_11_2020.ipynb\" target=\"_parent\"><img src=\"https://colab.research.google.com/assets/colab-badge.svg\" alt=\"Open In Colab\"/></a>"
      ]
    },
    {
      "cell_type": "code",
      "metadata": {
        "id": "K-VduN8X8tjX",
        "outputId": "f2e3b57d-b8c1-44aa-c28f-75d716dac3c5",
        "colab": {
          "base_uri": "https://localhost:8080/"
        }
      },
      "source": [
        "# Posso colocar qualquer texto que ele não será interpretado pela linguagem\n",
        "\n",
        "print(1)\n",
        "print(\"Paulo\")\n",
        "print(1.5)"
      ],
      "execution_count": null,
      "outputs": [
        {
          "output_type": "stream",
          "text": [
            "1\n",
            "Paulo\n",
            "1.5\n"
          ],
          "name": "stdout"
        }
      ]
    },
    {
      "cell_type": "code",
      "metadata": {
        "id": "e77bskZY9OsV",
        "outputId": "1f74835f-86a1-4acc-a903-c8b2f17921d7",
        "colab": {
          "base_uri": "https://localhost:8080/"
        }
      },
      "source": [
        "# Variável -> Guardar uma informação para usar depois\n",
        "# Armazena uma informação na memória RAM do computador\n",
        "\n",
        "nome = \"Paulo\"\n",
        "\n",
        "print(nome)"
      ],
      "execution_count": null,
      "outputs": [
        {
          "output_type": "stream",
          "text": [
            "Paulo\n"
          ],
          "name": "stdout"
        }
      ]
    },
    {
      "cell_type": "code",
      "metadata": {
        "id": "J77kaC7M-o_7",
        "outputId": "125f7a65-b497-414f-bf98-3cbf4e5823ab",
        "colab": {
          "base_uri": "https://localhost:8080/",
          "height": 251
        }
      },
      "source": [
        "# Erros\n",
        "\n",
        "nome = \"Paulo\"\n",
        "\n",
        "print(nome)\n",
        "print(20)\n",
        "print(Teste)\n",
        "print(55)"
      ],
      "execution_count": null,
      "outputs": [
        {
          "output_type": "stream",
          "text": [
            "Paulo\n",
            "20\n"
          ],
          "name": "stdout"
        },
        {
          "output_type": "error",
          "ename": "NameError",
          "evalue": "ignored",
          "traceback": [
            "\u001b[0;31m---------------------------------------------------------------------------\u001b[0m",
            "\u001b[0;31mNameError\u001b[0m                                 Traceback (most recent call last)",
            "\u001b[0;32m<ipython-input-29-4e735efc9119>\u001b[0m in \u001b[0;36m<module>\u001b[0;34m()\u001b[0m\n\u001b[1;32m      5\u001b[0m \u001b[0mprint\u001b[0m\u001b[0;34m(\u001b[0m\u001b[0mnome\u001b[0m\u001b[0;34m)\u001b[0m\u001b[0;34m\u001b[0m\u001b[0;34m\u001b[0m\u001b[0m\n\u001b[1;32m      6\u001b[0m \u001b[0mprint\u001b[0m\u001b[0;34m(\u001b[0m\u001b[0;36m20\u001b[0m\u001b[0;34m)\u001b[0m\u001b[0;34m\u001b[0m\u001b[0;34m\u001b[0m\u001b[0m\n\u001b[0;32m----> 7\u001b[0;31m \u001b[0mprint\u001b[0m\u001b[0;34m(\u001b[0m\u001b[0mTeste\u001b[0m\u001b[0;34m)\u001b[0m\u001b[0;34m\u001b[0m\u001b[0;34m\u001b[0m\u001b[0m\n\u001b[0m\u001b[1;32m      8\u001b[0m \u001b[0mprint\u001b[0m\u001b[0;34m(\u001b[0m\u001b[0;36m55\u001b[0m\u001b[0;34m)\u001b[0m\u001b[0;34m\u001b[0m\u001b[0;34m\u001b[0m\u001b[0m\n",
            "\u001b[0;31mNameError\u001b[0m: name 'Teste' is not defined"
          ]
        }
      ]
    },
    {
      "cell_type": "code",
      "metadata": {
        "id": "MqUbFp7O_AAj"
      },
      "source": [
        "# Números e textos\n",
        "\n",
        "# Número -> int (inteiros) e float (decimais)\n",
        "# Texto -> string ou str\n",
        "# Verdadeiro/Falso -> True ou False (bool) -> Booleano"
      ],
      "execution_count": null,
      "outputs": []
    },
    {
      "cell_type": "code",
      "metadata": {
        "id": "c6c3qH9L_n8f",
        "outputId": "1457133a-06ad-4a22-bd67-37266e0e1f39",
        "colab": {
          "base_uri": "https://localhost:8080/"
        }
      },
      "source": [
        "numero_int = 5\n",
        "numero_float = 5.5\n",
        "texto_str = \"Paulo\"\n",
        "verdadeiro_bool = True\n",
        "falso_bool = False\n",
        "\n",
        "print(numero_int)\n",
        "print(numero_float)\n",
        "print(texto_str)\n",
        "print(verdadeiro_bool)\n",
        "print(falso_bool)"
      ],
      "execution_count": null,
      "outputs": [
        {
          "output_type": "stream",
          "text": [
            "5\n",
            "5.5\n",
            "Paulo\n",
            "True\n",
            "False\n"
          ],
          "name": "stdout"
        }
      ]
    },
    {
      "cell_type": "code",
      "metadata": {
        "id": "mlCf5nZfABN7",
        "outputId": "66b9c3c8-9553-4c49-dcae-7771f1785e9a",
        "colab": {
          "base_uri": "https://localhost:8080/"
        }
      },
      "source": [
        "# Função type para checagem de tipos\n",
        "\n",
        "idade = 25\n",
        "nome = \"João\"\n",
        "nivel_interesse_programacao = 9.4\n",
        "usa_oculos = True\n",
        "\n",
        "print(idade)\n",
        "print(type(idade))\n",
        "print(nome)\n",
        "print(type(nome))\n",
        "print(nivel_interesse_programacao)\n",
        "print(type(nivel_interesse_programacao))\n",
        "print(usa_oculos)\n",
        "print(type(usa_oculos))"
      ],
      "execution_count": null,
      "outputs": [
        {
          "output_type": "stream",
          "text": [
            "25\n",
            "<class 'int'>\n",
            "João\n",
            "<class 'str'>\n",
            "9.4\n",
            "<class 'float'>\n",
            "True\n",
            "<class 'bool'>\n"
          ],
          "name": "stdout"
        }
      ]
    },
    {
      "cell_type": "code",
      "metadata": {
        "id": "OdI9N4txBhW-"
      },
      "source": [
        "idade = 25"
      ],
      "execution_count": null,
      "outputs": []
    },
    {
      "cell_type": "code",
      "metadata": {
        "id": "TP4fyPayD6g4"
      },
      "source": [
        "# Comentário de UMA linha\n",
        "\n",
        "'''\n",
        "Comentário\n",
        "de\n",
        "várias\n",
        "linhas\n",
        "'''\n",
        "\n",
        "\"\"\"\n",
        "Comentário\n",
        "com\n",
        "aspas\n",
        "duplas\n",
        "\"\"\"\n",
        "\n",
        "\"\"\"\n",
        "Estou escrevendo um texto que vai me ajudar\n",
        "a estudar a programação, ou um texto que fala\n",
        "um pouco sobre o que esse trecho de código faz\n",
        "\"\"\""
      ],
      "execution_count": null,
      "outputs": []
    },
    {
      "cell_type": "code",
      "metadata": {
        "id": "ScjawTwjEfQS",
        "outputId": "1ffb1ed5-9401-42f4-98b8-17a8bb6b7daa",
        "colab": {
          "base_uri": "https://localhost:8080/"
        }
      },
      "source": [
        "print(5 + 2)\n",
        "print(10 + 12)"
      ],
      "execution_count": null,
      "outputs": [
        {
          "output_type": "stream",
          "text": [
            "7\n",
            "22\n"
          ],
          "name": "stdout"
        }
      ]
    },
    {
      "cell_type": "code",
      "metadata": {
        "id": "6ude8ozuFh2B",
        "outputId": "b77735a9-3048-460c-dd14-57383d7d88f1",
        "colab": {
          "base_uri": "https://localhost:8080/"
        }
      },
      "source": [
        "soma = 1 + 2\n",
        "subtracao = 3 - 1\n",
        "multiplicacao = 3 * 2\n",
        "divisao = 5 / 3\n",
        "divisao_int = 5 // 3\n",
        "\n",
        "print(soma)\n",
        "print(type(soma))\n",
        "\n",
        "print(subtracao)\n",
        "print(type(subtracao))\n",
        "\n",
        "print(multiplicacao)\n",
        "print(type(multiplicacao))\n",
        "\n",
        "print(divisao)\n",
        "print(type(divisao))\n",
        "\n",
        "print(divisao_int)\n",
        "print(type(divisao_int))"
      ],
      "execution_count": null,
      "outputs": [
        {
          "output_type": "stream",
          "text": [
            "3\n",
            "<class 'int'>\n",
            "2\n",
            "<class 'int'>\n",
            "6\n",
            "<class 'int'>\n",
            "1.6666666666666667\n",
            "<class 'float'>\n",
            "1\n",
            "<class 'int'>\n",
            "1\n"
          ],
          "name": "stdout"
        }
      ]
    },
    {
      "cell_type": "markdown",
      "metadata": {
        "id": "JK9pkakxHhKV"
      },
      "source": [
        "# Exercício 1 - \"E os 10% do garçom?\"\n",
        "\n",
        "- Defina uma variável para o valor de uma refeição que custou `R$ 42,54`;\n",
        "- Defina uma variável para o valor da taxa de serviço que é de `10%`;\n",
        "- Defina uma variável que calcula o valor total da conta e exiba-o no console (sem formatação, por enquanto, apenas o valor do resultado).\n"
      ]
    },
    {
      "cell_type": "code",
      "metadata": {
        "id": "_iKRRVbIHz85",
        "outputId": "cc2cf91f-c8a8-4f5d-8e3c-1e3e8c671edc",
        "colab": {
          "base_uri": "https://localhost:8080/"
        }
      },
      "source": [
        "valor_refeicao = 42.54\n",
        "taxa_servico = 10\n",
        "\n",
        "total_conta = valor_refeicao + valor_refeicao * 10 / 100\n",
        "\n",
        "print(total_conta)\n",
        "\n",
        "# Próximo passo: colocar R$ e formatar com apenas 2 casas decimais"
      ],
      "execution_count": null,
      "outputs": [
        {
          "output_type": "stream",
          "text": [
            "46.794\n"
          ],
          "name": "stdout"
        }
      ]
    },
    {
      "cell_type": "code",
      "metadata": {
        "id": "BYD5SytANgXb",
        "outputId": "e2e99626-0272-4dbb-c5c7-6ea9dba2a0c2",
        "colab": {
          "base_uri": "https://localhost:8080/"
        }
      },
      "source": [
        "# Concatenação -> União de informações, porém, feita de maneira lógica, ou seja, que o PC entenda\n",
        "\n",
        "valor_refeicao = 42.54\n",
        "taxa_servico = 10\n",
        "\n",
        "total_conta = valor_refeicao + valor_refeicao * 10 / 100\n",
        "\n",
        "# print(\"R$ \" + str(total_conta))\n",
        "\n",
        "# Formatação\n",
        "\n",
        "print(f\"Sua refeição custou R$ {valor_refeicao}, mais a taxa de serviço de {taxa_servico}%.\")\n",
        "print(f\"O valor total ficou de R$ {total_conta:.2f}.\")"
      ],
      "execution_count": null,
      "outputs": [
        {
          "output_type": "stream",
          "text": [
            "Sua refeição custou R$ 42.54, mais a taxa de serviço de 10%.\n",
            "O valor total ficou de R$ 46.79.\n"
          ],
          "name": "stdout"
        }
      ]
    },
    {
      "cell_type": "code",
      "metadata": {
        "id": "jxYbrTD9P4Mo",
        "outputId": "8abcdbb6-e5c2-477f-eab8-71ff90a40ede",
        "colab": {
          "base_uri": "https://localhost:8080/"
        }
      },
      "source": [
        "# Curiosidade, substituindo ponto de decimal por vírgula\n",
        "\n",
        "total_com_virgula = f\"R$ {total_conta:.2f}\".replace(\".\", \",\")\n",
        "\n",
        "print(total_com_virgula)"
      ],
      "execution_count": null,
      "outputs": [
        {
          "output_type": "stream",
          "text": [
            "R$ 46,79\n"
          ],
          "name": "stdout"
        }
      ]
    },
    {
      "cell_type": "code",
      "metadata": {
        "id": "Xk5qcfNMQtTu",
        "outputId": "c1df6913-502e-458c-8a52-7cf928963d99",
        "colab": {
          "base_uri": "https://localhost:8080/"
        }
      },
      "source": [
        "# Indentação e formatação dos blocos\n",
        "\n",
        "def teste():\n",
        "  print(1)\n",
        "  print(2)\n",
        "\n",
        "\n",
        "if True:\n",
        "  print(3)\n",
        "else:\n",
        "  print(5)\n",
        "\n",
        "print(3)\n",
        "teste()\n",
        "\n",
        "if True:\n",
        "  print(4)"
      ],
      "execution_count": null,
      "outputs": [
        {
          "output_type": "stream",
          "text": [
            "3\n",
            "1\n",
            "2\n",
            "3\n",
            "4\n"
          ],
          "name": "stdout"
        }
      ]
    },
    {
      "cell_type": "code",
      "metadata": {
        "id": "nBFV10AgTLRC",
        "outputId": "180ebdd6-60fe-4e0a-d9f9-70a182971abe",
        "colab": {
          "base_uri": "https://localhost:8080/"
        }
      },
      "source": [
        "print(\"paulo\".upper())\n",
        "print(\"NOME EM MINÚSCULO\".lower())\n",
        "\n",
        "frase = \"essa é uma frase\".capitalize()\n",
        "print(frase)\n",
        "\n",
        "nome = \"paulo\".capitalize()\n",
        "sobrenome = \"salvatore\".capitalize()\n",
        "\n",
        "qtde_caracteres = len(nome) + len(sobrenome) + 1\n",
        "\n",
        "print(f\"{nome} {sobrenome} possui {qtde_caracteres} caracteres.\")\n",
        "\n",
        "frase_titulo = \"texto qualquer frase\".title()\n",
        "print(frase_titulo)"
      ],
      "execution_count": null,
      "outputs": [
        {
          "output_type": "stream",
          "text": [
            "PAULO\n",
            "nome em minúsculo\n",
            "Essa é uma frase\n",
            "Paulo Salvatore possui 15 caracteres.\n",
            "Texto Qualquer Frase\n"
          ],
          "name": "stdout"
        }
      ]
    },
    {
      "cell_type": "code",
      "metadata": {
        "id": "NLOJ2cgdVTkF",
        "outputId": "2b52fd71-6604-4b37-e3d8-74c1147a6a75",
        "colab": {
          "base_uri": "https://localhost:8080/"
        }
      },
      "source": [
        "numero = 5.555555\n",
        "\n",
        "print(f\"R$ {numero:.2f}\")"
      ],
      "execution_count": null,
      "outputs": [
        {
          "output_type": "stream",
          "text": [
            "R$ 5.56\n"
          ],
          "name": "stdout"
        }
      ]
    },
    {
      "cell_type": "code",
      "metadata": {
        "id": "1-PsEKXOVxJk",
        "outputId": "a9a5d357-04ad-43c3-9c0e-4bc88d19b0d3",
        "colab": {
          "base_uri": "https://localhost:8080/"
        }
      },
      "source": [
        "# Para pegar a quantidade de caracteres, utilizamos o len()\n",
        "\n",
        "# Capitalize -> Apenas a primeira letra da string maiúscula\n",
        "# \"paulo salvatore\" vira \"Paulo salvatore\"\n",
        "# \"salvatore\" vira \"Salvatore\"\n",
        "\n",
        "# Title -> Todas as primeiras letras de cada palavra em uma frase viram maiúsculas\n",
        "# \"paulo salvatore\" vira \"Paulo Salvatore\"\n",
        "\n",
        "nome = \"paulo\".capitalize()\n",
        "sobrenome = \"salvatore\".capitalize()\n",
        "\n",
        "print(nome, len(nome))\n",
        "print(sobrenome, len(sobrenome))\n",
        "\n",
        "nome_completo = nome + \" \" + sobrenome\n",
        "\n",
        "total = len(nome_completo)\n",
        "\n",
        "print(nome_completo, total)"
      ],
      "execution_count": null,
      "outputs": [
        {
          "output_type": "stream",
          "text": [
            "Paulo 5\n",
            "Salvatore 9\n",
            "Paulo Salvatore 15\n"
          ],
          "name": "stdout"
        }
      ]
    },
    {
      "cell_type": "code",
      "metadata": {
        "id": "L-1OZqO0W6RL",
        "outputId": "35bc6abe-6cca-4e6c-a82b-476725c201af",
        "colab": {
          "base_uri": "https://localhost:8080/"
        }
      },
      "source": [
        "nome = input(\"Digite o seu nome: \")\n",
        "\n",
        "print(f\"Olá, {nome}\")"
      ],
      "execution_count": null,
      "outputs": [
        {
          "output_type": "stream",
          "text": [
            "Digite o seu nome: Yasmin\n",
            "Olá, Yasmin\n"
          ],
          "name": "stdout"
        }
      ]
    },
    {
      "cell_type": "code",
      "metadata": {
        "id": "8HG0immSXQH5",
        "outputId": "5d057944-5440-41ea-a6b1-6428acc24c19",
        "colab": {
          "base_uri": "https://localhost:8080/"
        }
      },
      "source": [
        "idade = int(input(\"Quantos anos você tem? \"))\n",
        "\n",
        "print(idade)\n",
        "print(type(idade))\n",
        "print(f\"Daqui 5 anos você terá {idade + 5}\")"
      ],
      "execution_count": null,
      "outputs": [
        {
          "output_type": "stream",
          "text": [
            "Quantos anos você tem? 50\n",
            "50\n",
            "<class 'int'>\n",
            "Daqui 5 anos você terá 55\n"
          ],
          "name": "stdout"
        }
      ]
    },
    {
      "cell_type": "code",
      "metadata": {
        "id": "wbvHgy9dXtPi",
        "outputId": "832fcbae-b6ac-4a63-fd91-a05869cce295",
        "colab": {
          "base_uri": "https://localhost:8080/"
        }
      },
      "source": [
        "texto = int('5')\n",
        "print(texto, type(texto))"
      ],
      "execution_count": null,
      "outputs": [
        {
          "output_type": "stream",
          "text": [
            "5 <class 'int'>\n"
          ],
          "name": "stdout"
        }
      ]
    },
    {
      "cell_type": "code",
      "metadata": {
        "id": "GgjQ-mVnY1EN"
      },
      "source": [
        "\"\"\"\n",
        "Exercício 2\n",
        "Nome: Input de Informações\n",
        "Objetivo: Receber dados do usuário, trabalhar com os valores e exibir para o usuário.\n",
        "Dificuldade: Principiante\n",
        "1 - Crie um programa que receba do usuário seu nome, idade e gênero;\n",
        "2 - Exiba na tela seguinte mensagem: \"Olá, {nome}, você possui {idade} anos de idade e é do gênero {genero}.\";\n",
        "3 - Exiba também: \"Já pensou no que você fará no seu aniversário de {idade + 1} anos?.\".\n",
        "\n",
        "Adicionando uma pimentinha extra: \"Se o usuário digitar idade 1, exiba apenas \"ano\" em vez de \"anos\".\n",
        "\"\"\""
      ],
      "execution_count": null,
      "outputs": []
    }
  ]
}