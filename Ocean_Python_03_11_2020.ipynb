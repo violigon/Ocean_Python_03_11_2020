{
  "nbformat": 4,
  "nbformat_minor": 0,
  "metadata": {
    "colab": {
      "name": "Ocean_Python_03_11_2020.ipynb",
      "provenance": [],
      "include_colab_link": true
    },
    "kernelspec": {
      "name": "python3",
      "display_name": "Python 3"
    }
  },
  "cells": [
    {
      "cell_type": "markdown",
      "metadata": {
        "id": "view-in-github",
        "colab_type": "text"
      },
      "source": [
        "<a href=\"https://colab.research.google.com/github/violigon/Ocean_Python_03_11_2020/blob/main/Ocean_Python_03_11_2020.ipynb\" target=\"_parent\"><img src=\"https://colab.research.google.com/assets/colab-badge.svg\" alt=\"Open In Colab\"/></a>"
      ]
    },
    {
      "cell_type": "code",
      "metadata": {
        "id": "K-VduN8X8tjX",
        "outputId": "f2e3b57d-b8c1-44aa-c28f-75d716dac3c5",
        "colab": {
          "base_uri": "https://localhost:8080/"
        }
      },
      "source": [
        "# Posso colocar qualquer texto que ele não será interpretado pela linguagem\n",
        "\n",
        "print(1)\n",
        "print(\"Paulo\")\n",
        "print(1.5)"
      ],
      "execution_count": null,
      "outputs": [
        {
          "output_type": "stream",
          "text": [
            "1\n",
            "Paulo\n",
            "1.5\n"
          ],
          "name": "stdout"
        }
      ]
    },
    {
      "cell_type": "code",
      "metadata": {
        "id": "e77bskZY9OsV",
        "outputId": "1f74835f-86a1-4acc-a903-c8b2f17921d7",
        "colab": {
          "base_uri": "https://localhost:8080/"
        }
      },
      "source": [
        "# Variável -> Guardar uma informação para usar depois\n",
        "# Armazena uma informação na memória RAM do computador\n",
        "\n",
        "nome = \"Paulo\"\n",
        "\n",
        "print(nome)"
      ],
      "execution_count": null,
      "outputs": [
        {
          "output_type": "stream",
          "text": [
            "Paulo\n"
          ],
          "name": "stdout"
        }
      ]
    },
    {
      "cell_type": "code",
      "metadata": {
        "id": "J77kaC7M-o_7",
        "outputId": "125f7a65-b497-414f-bf98-3cbf4e5823ab",
        "colab": {
          "base_uri": "https://localhost:8080/",
          "height": 251
        }
      },
      "source": [
        "# Erros\n",
        "\n",
        "nome = \"Paulo\"\n",
        "\n",
        "print(nome)\n",
        "print(20)\n",
        "print(Teste)\n",
        "print(55)"
      ],
      "execution_count": null,
      "outputs": [
        {
          "output_type": "stream",
          "text": [
            "Paulo\n",
            "20\n"
          ],
          "name": "stdout"
        },
        {
          "output_type": "error",
          "ename": "NameError",
          "evalue": "ignored",
          "traceback": [
            "\u001b[0;31m---------------------------------------------------------------------------\u001b[0m",
            "\u001b[0;31mNameError\u001b[0m                                 Traceback (most recent call last)",
            "\u001b[0;32m<ipython-input-29-4e735efc9119>\u001b[0m in \u001b[0;36m<module>\u001b[0;34m()\u001b[0m\n\u001b[1;32m      5\u001b[0m \u001b[0mprint\u001b[0m\u001b[0;34m(\u001b[0m\u001b[0mnome\u001b[0m\u001b[0;34m)\u001b[0m\u001b[0;34m\u001b[0m\u001b[0;34m\u001b[0m\u001b[0m\n\u001b[1;32m      6\u001b[0m \u001b[0mprint\u001b[0m\u001b[0;34m(\u001b[0m\u001b[0;36m20\u001b[0m\u001b[0;34m)\u001b[0m\u001b[0;34m\u001b[0m\u001b[0;34m\u001b[0m\u001b[0m\n\u001b[0;32m----> 7\u001b[0;31m \u001b[0mprint\u001b[0m\u001b[0;34m(\u001b[0m\u001b[0mTeste\u001b[0m\u001b[0;34m)\u001b[0m\u001b[0;34m\u001b[0m\u001b[0;34m\u001b[0m\u001b[0m\n\u001b[0m\u001b[1;32m      8\u001b[0m \u001b[0mprint\u001b[0m\u001b[0;34m(\u001b[0m\u001b[0;36m55\u001b[0m\u001b[0;34m)\u001b[0m\u001b[0;34m\u001b[0m\u001b[0;34m\u001b[0m\u001b[0m\n",
            "\u001b[0;31mNameError\u001b[0m: name 'Teste' is not defined"
          ]
        }
      ]
    },
    {
      "cell_type": "code",
      "metadata": {
        "id": "MqUbFp7O_AAj"
      },
      "source": [
        "# Números e textos\n",
        "\n",
        "# Número -> int (inteiros) e float (decimais)\n",
        "# Texto -> string ou str\n",
        "# Verdadeiro/Falso -> True ou False (bool) -> Booleano"
      ],
      "execution_count": null,
      "outputs": []
    },
    {
      "cell_type": "code",
      "metadata": {
        "id": "c6c3qH9L_n8f",
        "outputId": "1457133a-06ad-4a22-bd67-37266e0e1f39",
        "colab": {
          "base_uri": "https://localhost:8080/"
        }
      },
      "source": [
        "numero_int = 5\n",
        "numero_float = 5.5\n",
        "texto_str = \"Paulo\"\n",
        "verdadeiro_bool = True\n",
        "falso_bool = False\n",
        "\n",
        "print(numero_int)\n",
        "print(numero_float)\n",
        "print(texto_str)\n",
        "print(verdadeiro_bool)\n",
        "print(falso_bool)"
      ],
      "execution_count": null,
      "outputs": [
        {
          "output_type": "stream",
          "text": [
            "5\n",
            "5.5\n",
            "Paulo\n",
            "True\n",
            "False\n"
          ],
          "name": "stdout"
        }
      ]
    },
    {
      "cell_type": "code",
      "metadata": {
        "id": "mlCf5nZfABN7",
        "outputId": "66b9c3c8-9553-4c49-dcae-7771f1785e9a",
        "colab": {
          "base_uri": "https://localhost:8080/"
        }
      },
      "source": [
        "# Função type para checagem de tipos\n",
        "\n",
        "idade = 25\n",
        "nome = \"João\"\n",
        "nivel_interesse_programacao = 9.4\n",
        "usa_oculos = True\n",
        "\n",
        "print(idade)\n",
        "print(type(idade))\n",
        "print(nome)\n",
        "print(type(nome))\n",
        "print(nivel_interesse_programacao)\n",
        "print(type(nivel_interesse_programacao))\n",
        "print(usa_oculos)\n",
        "print(type(usa_oculos))"
      ],
      "execution_count": null,
      "outputs": [
        {
          "output_type": "stream",
          "text": [
            "25\n",
            "<class 'int'>\n",
            "João\n",
            "<class 'str'>\n",
            "9.4\n",
            "<class 'float'>\n",
            "True\n",
            "<class 'bool'>\n"
          ],
          "name": "stdout"
        }
      ]
    },
    {
      "cell_type": "code",
      "metadata": {
        "id": "OdI9N4txBhW-"
      },
      "source": [
        "idade = 25"
      ],
      "execution_count": null,
      "outputs": []
    },
    {
      "cell_type": "code",
      "metadata": {
        "id": "TP4fyPayD6g4"
      },
      "source": [
        "# Comentário de UMA linha\n",
        "\n",
        "'''\n",
        "Comentário\n",
        "de\n",
        "várias\n",
        "linhas\n",
        "'''\n",
        "\n",
        "\"\"\"\n",
        "Comentário\n",
        "com\n",
        "aspas\n",
        "duplas\n",
        "\"\"\"\n",
        "\n",
        "\"\"\"\n",
        "Estou escrevendo um texto que vai me ajudar\n",
        "a estudar a programação, ou um texto que fala\n",
        "um pouco sobre o que esse trecho de código faz\n",
        "\"\"\""
      ],
      "execution_count": null,
      "outputs": []
    },
    {
      "cell_type": "code",
      "metadata": {
        "id": "ScjawTwjEfQS",
        "outputId": "1ffb1ed5-9401-42f4-98b8-17a8bb6b7daa",
        "colab": {
          "base_uri": "https://localhost:8080/"
        }
      },
      "source": [
        "print(5 + 2)\n",
        "print(10 + 12)"
      ],
      "execution_count": null,
      "outputs": [
        {
          "output_type": "stream",
          "text": [
            "7\n",
            "22\n"
          ],
          "name": "stdout"
        }
      ]
    },
    {
      "cell_type": "code",
      "metadata": {
        "id": "6ude8ozuFh2B",
        "outputId": "b77735a9-3048-460c-dd14-57383d7d88f1",
        "colab": {
          "base_uri": "https://localhost:8080/"
        }
      },
      "source": [
        "soma = 1 + 2\n",
        "subtracao = 3 - 1\n",
        "multiplicacao = 3 * 2\n",
        "divisao = 5 / 3\n",
        "divisao_int = 5 // 3\n",
        "\n",
        "print(soma)\n",
        "print(type(soma))\n",
        "\n",
        "print(subtracao)\n",
        "print(type(subtracao))\n",
        "\n",
        "print(multiplicacao)\n",
        "print(type(multiplicacao))\n",
        "\n",
        "print(divisao)\n",
        "print(type(divisao))\n",
        "\n",
        "print(divisao_int)\n",
        "print(type(divisao_int))"
      ],
      "execution_count": null,
      "outputs": [
        {
          "output_type": "stream",
          "text": [
            "3\n",
            "<class 'int'>\n",
            "2\n",
            "<class 'int'>\n",
            "6\n",
            "<class 'int'>\n",
            "1.6666666666666667\n",
            "<class 'float'>\n",
            "1\n",
            "<class 'int'>\n",
            "1\n"
          ],
          "name": "stdout"
        }
      ]
    }
  ]
}